{
 "cells": [
  {
   "cell_type": "code",
   "execution_count": 3,
   "id": "b73e6e96-fbbb-4d8f-9198-b11953cb2567",
   "metadata": {},
   "outputs": [
    {
     "name": "stderr",
     "output_type": "stream",
     "text": [
      "\n",
      "Generating train split: 0 examples [00:00, ? examples/s]\n",
      "Generating train split: 347340 examples [00:00, 2777872.26 examples/s]\n",
      "Generating train split: 553089 examples [00:00, 2720396.32 examples/s]\n",
      "Traceback (most recent call last):\n",
      "  File \"C:\\Users\\anape\\PycharmProjects\\fp-dataset-artifacts\\venv\\lib\\site-packages\\huggingface_hub\\utils\\_http.py\", line 406, in hf_raise_for_status\n",
      "    response.raise_for_status()\n",
      "  File \"C:\\Users\\anape\\PycharmProjects\\fp-dataset-artifacts\\venv\\lib\\site-packages\\requests\\models.py\", line 1024, in raise_for_status\n",
      "    raise HTTPError(http_error_msg, response=self)\n",
      "requests.exceptions.HTTPError: 401 Client Error: Unauthorized for url: https://huggingface.co/model/resolve/main/config.json\n",
      "\n",
      "The above exception was the direct cause of the following exception:\n",
      "\n",
      "Traceback (most recent call last):\n",
      "  File \"C:\\Users\\anape\\PycharmProjects\\fp-dataset-artifacts\\venv\\lib\\site-packages\\transformers\\utils\\hub.py\", line 403, in cached_file\n",
      "    resolved_file = hf_hub_download(\n",
      "  File \"C:\\Users\\anape\\PycharmProjects\\fp-dataset-artifacts\\venv\\lib\\site-packages\\huggingface_hub\\utils\\_validators.py\", line 114, in _inner_fn\n",
      "    return fn(*args, **kwargs)\n",
      "  File \"C:\\Users\\anape\\PycharmProjects\\fp-dataset-artifacts\\venv\\lib\\site-packages\\huggingface_hub\\file_download.py\", line 862, in hf_hub_download\n",
      "    return _hf_hub_download_to_cache_dir(\n",
      "  File \"C:\\Users\\anape\\PycharmProjects\\fp-dataset-artifacts\\venv\\lib\\site-packages\\huggingface_hub\\file_download.py\", line 969, in _hf_hub_download_to_cache_dir\n",
      "    _raise_on_head_call_error(head_call_error, force_download, local_files_only)\n",
      "  File \"C:\\Users\\anape\\PycharmProjects\\fp-dataset-artifacts\\venv\\lib\\site-packages\\huggingface_hub\\file_download.py\", line 1484, in _raise_on_head_call_error\n",
      "    raise head_call_error\n",
      "  File \"C:\\Users\\anape\\PycharmProjects\\fp-dataset-artifacts\\venv\\lib\\site-packages\\huggingface_hub\\file_download.py\", line 1376, in _get_metadata_or_catch_error\n",
      "    metadata = get_hf_file_metadata(\n",
      "  File \"C:\\Users\\anape\\PycharmProjects\\fp-dataset-artifacts\\venv\\lib\\site-packages\\huggingface_hub\\utils\\_validators.py\", line 114, in _inner_fn\n",
      "    return fn(*args, **kwargs)\n",
      "  File \"C:\\Users\\anape\\PycharmProjects\\fp-dataset-artifacts\\venv\\lib\\site-packages\\huggingface_hub\\file_download.py\", line 1296, in get_hf_file_metadata\n",
      "    r = _request_wrapper(\n",
      "  File \"C:\\Users\\anape\\PycharmProjects\\fp-dataset-artifacts\\venv\\lib\\site-packages\\huggingface_hub\\file_download.py\", line 277, in _request_wrapper\n",
      "    response = _request_wrapper(\n",
      "  File \"C:\\Users\\anape\\PycharmProjects\\fp-dataset-artifacts\\venv\\lib\\site-packages\\huggingface_hub\\file_download.py\", line 301, in _request_wrapper\n",
      "    hf_raise_for_status(response)\n",
      "  File \"C:\\Users\\anape\\PycharmProjects\\fp-dataset-artifacts\\venv\\lib\\site-packages\\huggingface_hub\\utils\\_http.py\", line 454, in hf_raise_for_status\n",
      "    raise _format(RepositoryNotFoundError, message, response) from e\n",
      "huggingface_hub.errors.RepositoryNotFoundError: 401 Client Error. (Request ID: Root=1-673ecaac-5edf0a8e422f836d4068a088;0ed5d5d9-8299-4bda-8116-397f89c22821)\n",
      "\n",
      "Repository Not Found for url: https://huggingface.co/model/resolve/main/config.json.\n",
      "Please make sure you specified the correct `repo_id` and `repo_type`.\n",
      "If you are trying to access a private or gated repo, make sure you are authenticated.\n",
      "Invalid username or password.\n",
      "\n",
      "The above exception was the direct cause of the following exception:\n",
      "\n",
      "Traceback (most recent call last):\n",
      "  File \"C:\\Users\\anape\\PycharmProjects\\fp-dataset-artifacts\\run.py\", line 217, in <module>\n",
      "    main()\n",
      "  File \"C:\\Users\\anape\\PycharmProjects\\fp-dataset-artifacts\\run.py\", line 84, in main\n",
      "    model = model_class.from_pretrained(args.model, **task_kwargs)\n",
      "  File \"C:\\Users\\anape\\PycharmProjects\\fp-dataset-artifacts\\venv\\lib\\site-packages\\transformers\\models\\auto\\auto_factory.py\", line 487, in from_pretrained\n",
      "    resolved_config_file = cached_file(\n",
      "  File \"C:\\Users\\anape\\PycharmProjects\\fp-dataset-artifacts\\venv\\lib\\site-packages\\transformers\\utils\\hub.py\", line 426, in cached_file\n",
      "    raise EnvironmentError(\n",
      "OSError: model is not a local folder and is not a valid model identifier listed on 'https://huggingface.co/models'\n",
      "If this is a private repository, make sure to pass a token having permission to this repo either by logging in with `huggingface-cli login` or by passing `token=<your_token>`\n"
     ]
    }
   ],
   "source": [
    "# Train\n",
    "model = \"output-finetune-snli-baseline\"\n",
    "output_dir = \"snli-gender/train/output/3epochs\"\n",
    "dataset = \"snli-gender/train/snli-hf-original-plus-antistereo-0.2ratio.jsonl\"\n",
    "\n",
    "!python run.py --task nli --do_eval --model model --output_dir output_dir --dataset snli-gender/train/snli-hf-original-plus-antistereo-0.2ratio.jsonl"
   ]
  },
  {
   "cell_type": "code",
   "execution_count": null,
   "id": "748cc21b-a83a-4da0-8400-0d06d9f62878",
   "metadata": {},
   "outputs": [],
   "source": []
  },
  {
   "cell_type": "code",
   "execution_count": null,
   "id": "e717744a-32e9-4f90-a88c-fb2c4bc2c6db",
   "metadata": {},
   "outputs": [],
   "source": []
  },
  {
   "cell_type": "code",
   "execution_count": null,
   "id": "4652ccfa-d53b-441e-befe-0bf71ca98c73",
   "metadata": {},
   "outputs": [],
   "source": []
  }
 ],
 "metadata": {
  "kernelspec": {
   "display_name": "Python 3 (ipykernel)",
   "language": "python",
   "name": "python3"
  },
  "language_info": {
   "codemirror_mode": {
    "name": "ipython",
    "version": 3
   },
   "file_extension": ".py",
   "mimetype": "text/x-python",
   "name": "python",
   "nbconvert_exporter": "python",
   "pygments_lexer": "ipython3",
   "version": "3.10.11"
  }
 },
 "nbformat": 4,
 "nbformat_minor": 5
}
